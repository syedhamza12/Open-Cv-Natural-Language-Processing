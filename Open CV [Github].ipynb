{
 "cells": [
  {
   "cell_type": "markdown",
   "metadata": {},
   "source": [
    "# Image Translation"
   ]
  },
  {
   "cell_type": "code",
   "execution_count": 1,
   "metadata": {},
   "outputs": [],
   "source": [
    "import numpy as np\n",
    "import cv2\n",
    "m1=cv2.imread('C:\\\\Users\\\\hamza jamil\\\\Downloads\\\\40139644_1738829239547648_4190186835760119808_n.jpg')\n"
   ]
  },
  {
   "cell_type": "code",
   "execution_count": 2,
   "metadata": {},
   "outputs": [],
   "source": [
    "height,width=m1.shape[:2]\n",
    "#print(width)\n",
    "quater_height,quater_width=height/2,width/2\n",
    "#print(quater_height)"
   ]
  },
  {
   "cell_type": "code",
   "execution_count": 4,
   "metadata": {},
   "outputs": [
    {
     "data": {
      "text/plain": [
       "array([[  1.,   0., 425.],\n",
       "       [  0.,   1., 425.]], dtype=float32)"
      ]
     },
     "execution_count": 4,
     "metadata": {},
     "output_type": "execute_result"
    }
   ],
   "source": [
    "nu=np.float32([[1,0,quater_width],\n",
    "               [0,1,quater_height]\n",
    "    \n",
    "]\n",
    ")\n",
    "nu"
   ]
  },
  {
   "cell_type": "code",
   "execution_count": 5,
   "metadata": {},
   "outputs": [
    {
     "data": {
      "text/plain": [
       "array([[[  0,   0,   0],\n",
       "        [  0,   0,   0],\n",
       "        [  0,   0,   0],\n",
       "        ...,\n",
       "        [  0,   0,   0],\n",
       "        [  0,   0,   0],\n",
       "        [  0,   0,   0]],\n",
       "\n",
       "       [[  0,   0,   0],\n",
       "        [  0,   0,   0],\n",
       "        [  0,   0,   0],\n",
       "        ...,\n",
       "        [  0,   0,   0],\n",
       "        [  0,   0,   0],\n",
       "        [  0,   0,   0]],\n",
       "\n",
       "       [[  0,   0,   0],\n",
       "        [  0,   0,   0],\n",
       "        [  0,   0,   0],\n",
       "        ...,\n",
       "        [  0,   0,   0],\n",
       "        [  0,   0,   0],\n",
       "        [  0,   0,   0]],\n",
       "\n",
       "       ...,\n",
       "\n",
       "       [[  0,   0,   0],\n",
       "        [  0,   0,   0],\n",
       "        [  0,   0,   0],\n",
       "        ...,\n",
       "        [177, 140, 144],\n",
       "        [175, 138, 142],\n",
       "        [175, 138, 142]],\n",
       "\n",
       "       [[  0,   0,   0],\n",
       "        [  0,   0,   0],\n",
       "        [  0,   0,   0],\n",
       "        ...,\n",
       "        [178, 141, 145],\n",
       "        [176, 139, 143],\n",
       "        [176, 139, 143]],\n",
       "\n",
       "       [[  0,   0,   0],\n",
       "        [  0,   0,   0],\n",
       "        [  0,   0,   0],\n",
       "        ...,\n",
       "        [175, 138, 142],\n",
       "        [174, 137, 141],\n",
       "        [171, 134, 138]]], dtype=uint8)"
      ]
     },
     "execution_count": 5,
     "metadata": {},
     "output_type": "execute_result"
    }
   ],
   "source": [
    "img_t=cv2.warpAffine(m1,nu,(width,height))\n",
    "img_t"
   ]
  },
  {
   "cell_type": "code",
   "execution_count": null,
   "metadata": {},
   "outputs": [],
   "source": [
    "cv2.imshow('original',m1)\n",
    "cv2.imshow('tranlate',img_t)\n",
    "cv2.waitKey(0)\n",
    "cv2.destroyAllWindows()"
   ]
  },
  {
   "cell_type": "markdown",
   "metadata": {},
   "source": [
    "# image rotation"
   ]
  },
  {
   "cell_type": "code",
   "execution_count": 5,
   "metadata": {},
   "outputs": [],
   "source": [
    "import numpy as np\n",
    "import cv2\n",
    "m=cv2.imread('C:\\\\Users\\\\hamza jamil\\\\Downloads\\\\40139644_1738829239547648_4190186835760119808_n.jpg')\n",
    "width,height=m.shape[0:2]"
   ]
  },
  {
   "cell_type": "code",
   "execution_count": 6,
   "metadata": {},
   "outputs": [],
   "source": [
    "#here we use rotate matrix function\n",
    "ro=cv2.getRotationMatrix2D((width/2,height/2),120,.9)\n",
    "ro_m=cv2.warpAffine(m,ro,(width,height))\n",
    "cv2.imshow('rotat matrix',ro_m)\n",
    "cv2.waitKey(0)\n",
    "cv2.destroyAllWindows()"
   ]
  },
  {
   "cell_type": "markdown",
   "metadata": {},
   "source": [
    "# here we use image resizing"
   ]
  },
  {
   "cell_type": "code",
   "execution_count": 7,
   "metadata": {},
   "outputs": [],
   "source": [
    "import numpy as np\n",
    "import cv2\n",
    "p1=cv2.imread('C:\\\\Users\\\\hamza jamil\\\\Downloads\\\\40139644_1738829239547648_4190186835760119808_n.jpg')"
   ]
  },
  {
   "cell_type": "code",
   "execution_count": 8,
   "metadata": {},
   "outputs": [],
   "source": [
    "cv2.imshow('orignial',p1)\n",
    "cv2.waitKey(0)\n",
    "#here we use image resize method\n",
    "line=cv2.resize(p1,None,fx=0.75,fy=0.75)\n",
    "cv2.imshow('linear',line)\n",
    "cv2.waitKey()\n",
    "#here we use another cube method \n",
    "cub=cv2.resize(p1,None,fx=2,fy=2,interpolation=cv2.INTER_CUBIC)\n",
    "cv2.imshow('inter cubic',cub)\n",
    "cv2.waitKey()\n",
    "#here we use another inter cubic method\n",
    "intee=cv2.resize(p1,(800,400),interpolation=cv2.INTER_AREA)\n",
    "intera=cv2.imshow('inter cubic',intee)\n",
    "cv2.waitKey()\n",
    "cv2.destroyAllWindows()"
   ]
  },
  {
   "cell_type": "markdown",
   "metadata": {},
   "source": [
    "# Image Cropping"
   ]
  },
  {
   "cell_type": "code",
   "execution_count": 9,
   "metadata": {},
   "outputs": [],
   "source": [
    "import numpy as np\n",
    "import cv2\n",
    "pg=cv2.imread('C:\\\\Users\\\\hamza jamil\\\\Downloads\\\\40139644_1738829239547648_4190186835760119808_n.jpg')"
   ]
  },
  {
   "cell_type": "code",
   "execution_count": 10,
   "metadata": {},
   "outputs": [],
   "source": [
    "w,h=pg.shape[:2]\n",
    "sr,sc=int(w*.25),int(h*.25)\n",
    "er,ec=int(w*.75),int(h*.75)\n",
    "crop=pg[sr:er,sc:ec]\n",
    "cv2.imshow('orignil',pg)\n",
    "cv2.imshow('crop imge',crop)\n",
    "cv2.waitKey(0)\n",
    "cv2.destroyAllWindows()"
   ]
  },
  {
   "cell_type": "markdown",
   "metadata": {},
   "source": [
    "# Image Airthmetic's"
   ]
  },
  {
   "cell_type": "code",
   "execution_count": 11,
   "metadata": {},
   "outputs": [],
   "source": [
    "import numpy as np\n",
    "import cv2\n",
    "ig=cv2.imread('C:\\\\Users\\\\hamza jamil\\\\Downloads\\\\40139644_1738829239547648_4190186835760119808_n.jpg')"
   ]
  },
  {
   "cell_type": "code",
   "execution_count": 12,
   "metadata": {},
   "outputs": [],
   "source": [
    "m=np.ones(ig.shape,dtype='uint8')*100\n",
    "ad=cv2.add(ig,m)\n",
    "#here we also use sub,mul functionl\n",
    "cv2.imshow('orignl',ig)\n",
    "cv2.imshow('addirion',ad)\n",
    "sub=cv2.subtract(ig,m)\n",
    "cv2.imshow('subtraction',sub)\n",
    "cv2.waitKey(0)\n",
    "cv2.destroyAllWindows()"
   ]
  },
  {
   "cell_type": "markdown",
   "metadata": {},
   "source": [
    "# Image Bitwise Operations"
   ]
  },
  {
   "cell_type": "code",
   "execution_count": 13,
   "metadata": {},
   "outputs": [],
   "source": [
    "import numpy as np\n",
    "import cv2\n",
    "sq=np.zeros((300,300),np.uint8)\n",
    "cv2.rectangle(sq,(50,50),(250,250),255,-1)\n",
    "cv2.imshow('square',sq)\n",
    "eclip=np.zeros((300,300),np.uint8)\n",
    "ec=cv2.ellipse(eclip,(150,150),(150,150),30,0,180,255,-1)\n",
    "cv2.imshow('eclipse',ec)\n",
    "end=cv2.bitwise_and(sq,ec)\n",
    "cv2.imshow('bitwise end',end)\n",
    "orr=cv2.bitwise_or(sq,ec)\n",
    "cv2.imshow('bitwise OR',orr)\n",
    "xor=cv2.bitwise_xor(sq,ec)\n",
    "cv2.imshow('bit XOR',xor)\n",
    "noot=cv2.bitwise_not(sq)\n",
    "cv2.imshow('bitwise noot',noot)\n",
    "cv2.waitKey(0)\n",
    "cv2.destroyAllWindows()"
   ]
  },
  {
   "cell_type": "markdown",
   "metadata": {},
   "source": [
    "# Image Blurring Operations"
   ]
  },
  {
   "cell_type": "code",
   "execution_count": 15,
   "metadata": {},
   "outputs": [],
   "source": [
    "import cv2\n",
    "import numpy as np\n",
    "\n",
    "imc=cv2.imread('C:\\\\Users\\\\hamza jamil\\\\Downloads\\\\40139644_1738829239547648_4190186835760119808_n.jpg')\n",
    "ker=np.ones((3,3),np.float32)/9\n",
    "blur=cv2.filter2D(imc,-2,ker)\n",
    "cv2.imshow('originl',imc)\n",
    "cv2.imshow('filter2d',blur)\n",
    "cv2.waitKey(0)\n",
    "cv2.destroyAllWindows()"
   ]
  },
  {
   "cell_type": "markdown",
   "metadata": {},
   "source": [
    "# Image Smoothing"
   ]
  },
  {
   "cell_type": "code",
   "execution_count": 16,
   "metadata": {},
   "outputs": [],
   "source": [
    "import cv2\n",
    "import numpy as np\n",
    "\n",
    "imk=cv2.imread('C:\\\\Users\\\\hamza jamil\\\\Downloads\\\\40139644_1738829239547648_4190186835760119808_n.jpg')\n",
    "smot=cv2.blur(imk,(9,8))\n",
    "gusin=cv2.GaussianBlur(imk,(7,7),0)\n",
    "medin=cv2.medianBlur(imk,5)\n",
    "cv2.imshow('originl',imk)\n",
    "cv2.imshow('smooth',smot)\n",
    "cv2.imshow('gusian',gusin)\n",
    "cv2.imshow('median',medin)\n",
    "cv2.waitKey(0)\n",
    "cv2.destroyAllWindows()\n"
   ]
  },
  {
   "cell_type": "markdown",
   "metadata": {},
   "source": [
    "# Image Edge Detection"
   ]
  },
  {
   "cell_type": "code",
   "execution_count": 17,
   "metadata": {},
   "outputs": [],
   "source": [
    "import cv2\n",
    "import numpy as np\n",
    "\n",
    "imk=cv2.imread('C:\\\\Users\\\\hamza jamil\\\\Downloads\\\\40139644_1738829239547648_4190186835760119808_n.jpg',0)\n",
    "h,w=imk.shape\n",
    "sx=cv2.Sobel(imk,cv2.CV_64F,1,0,ksize=5)\n",
    "sy=cv2.Sobel(imk,cv2.CV_64F,0,1,ksize=5)\n",
    "cv2.imshow('orignl',imk)\n",
    "cv2.imshow('sx img',sx)\n",
    "cv2.imshow('sy img',sy)\n",
    "bit=cv2.bitwise_or(sx,sy)\n",
    "lap=cv2.Laplacian(imk,cv2.CV_64F)\n",
    "can=cv2.Canny(imk,20,100)\n",
    "cv2.imshow('bitwise or',bit)\n",
    "cv2.imshow('laplcin',lap)\n",
    "cv2.imshow('cny img',can)\n",
    "cv2.waitKey(0)\n",
    "cv2.destroyAllWindows()"
   ]
  },
  {
   "cell_type": "markdown",
   "metadata": {},
   "source": [
    "# OpenCV Webcam"
   ]
  },
  {
   "cell_type": "code",
   "execution_count": 18,
   "metadata": {},
   "outputs": [],
   "source": [
    "import cv2\n",
    "import numpy as np\n",
    "vid=cv2.VideoCapture(0)\n",
    "while True:\n",
    "    ret,fr=vid.read()\n",
    "    cv2.imshow('video frme',fr)\n",
    "    if cv2.waitKey(1)==13:\n",
    "        break\n",
    "vid.release()   \n",
    "cv2.destroyAllWindows()"
   ]
  },
  {
   "cell_type": "markdown",
   "metadata": {},
   "source": [
    "# Capture Image and Store in system"
   ]
  },
  {
   "cell_type": "code",
   "execution_count": null,
   "metadata": {},
   "outputs": [],
   "source": [
    "import cv2\n",
    "import numpy as np\n",
    "\n",
    "faceDetect=cv2.CascadeClassifier('haarcascade_frontalface_default.xml');\n",
    "cam=cv2.VideoCapture(0);\n",
    "id=input(\"User Id:\")\n",
    "name=input(\"enter name:\")\n",
    "sample=0;\n",
    "while(True):\n",
    "    ret,img=cam.read();\n",
    "    gray=cv2.cvtColor(img,cv2.COLOR_BGR2GRAY)\n",
    "    faces=faceDetect.detectMultiScale(gray,1.3,5);\n",
    "    for(x,y,w,h) in faces:\n",
    "        sample=sample+1;\n",
    "        cv2.imwrite(\"C:\\\\Users\\\\hamza jamil\\\\Downloads\\\\Face-Recognition-Based-Attendance-System-master\\\\FaceRecognitionScript-master\\\\dataset\\\\user.\"+str(id)+\".\"+str(name)+\".\"+str(sample)+\".jpg\", gray[y:y+h,x:x+w])\n",
    "        cv2.rectangle(img,(x,y),(x+w,y+h),(0,255,0),2)\n",
    "        cv2.waitKey(100);\n",
    "    cv2.imshow(\"Face\",img);\n",
    "    cv2.waitKey(1);\n",
    "    if sample > 60:\n",
    "        break;\n",
    "cam.release()\n",
    "cv2.destroyAllWindows();\n"
   ]
  },
  {
   "cell_type": "code",
   "execution_count": null,
   "metadata": {},
   "outputs": [],
   "source": []
  }
 ],
 "metadata": {
  "kernelspec": {
   "display_name": "Python 3",
   "language": "python",
   "name": "python3"
  },
  "language_info": {
   "codemirror_mode": {
    "name": "ipython",
    "version": 3
   },
   "file_extension": ".py",
   "mimetype": "text/x-python",
   "name": "python",
   "nbconvert_exporter": "python",
   "pygments_lexer": "ipython3",
   "version": "3.7.0"
  }
 },
 "nbformat": 4,
 "nbformat_minor": 2
}
